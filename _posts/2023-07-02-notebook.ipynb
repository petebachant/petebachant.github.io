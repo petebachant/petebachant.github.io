{
 "cells": [
  {
   "cell_type": "code",
   "execution_count": 32,
   "metadata": {},
   "outputs": [
    {
     "name": "stdout",
     "output_type": "stream",
     "text": [
      "Result: [1, 2, 3, 4, 5]\n"
     ]
    }
   ],
   "source": [
    "class Simulator:\n",
    "    def __init__(self, n_iterations: int):\n",
    "        self.n_iterations = n_iterations\n",
    "        self.iteration = 0\n",
    "        self.force = []\n",
    "\n",
    "    def simulate(self):\n",
    "        for _ in range(self.n_iterations):\n",
    "            self.iteration += 1\n",
    "            self.force.append(self.iteration)\n",
    "\n",
    "\n",
    "simulator = Simulator(n_iterations=5)\n",
    "simulator.simulate()\n",
    "result = simulator.force\n",
    "print(\"Result:\", result)"
   ]
  },
  {
   "cell_type": "code",
   "execution_count": 33,
   "metadata": {},
   "outputs": [
    {
     "name": "stdout",
     "output_type": "stream",
     "text": [
      "Result 1: [1, 2, 3, 4, 5]\n",
      "Result 2: [1, 2, 3, 4, 5, 6, 7, 8, 9, 10, 11, 12, 13, 14, 15]\n",
      "Result 1: [1, 2, 3, 4, 5, 6, 7, 8, 9, 10, 11, 12, 13, 14, 15]\n"
     ]
    }
   ],
   "source": [
    "class Simulator:\n",
    "    def __init__(self, n_iterations: int):\n",
    "        self.n_iterations = n_iterations\n",
    "        self.iteration = 0\n",
    "        self.force = []\n",
    "\n",
    "    def simulate(self):\n",
    "        for _ in range(self.n_iterations):\n",
    "            self.iteration += 1\n",
    "            self.force.append(self.iteration)\n",
    "\n",
    "\n",
    "simulator = Simulator(n_iterations=5)\n",
    "simulator.simulate()\n",
    "result1 = simulator.force\n",
    "print(\"Result 1:\", result1)\n",
    "simulator.n_iterations = 10\n",
    "simulator.simulate()\n",
    "result2 = simulator.force\n",
    "print(\"Result 2:\", result2)\n",
    "print(\"Result 1:\", result1)"
   ]
  },
  {
   "cell_type": "code",
   "execution_count": 35,
   "metadata": {},
   "outputs": [
    {
     "name": "stdout",
     "output_type": "stream",
     "text": [
      "Result 1: [1, 2, 3, 4, 5]\n",
      "Result 2: [1, 2, 3, 4, 5, 6, 7, 8, 9, 10]\n",
      "Result 1: [1, 2, 3, 4, 5]\n"
     ]
    }
   ],
   "source": [
    "def simulate(n_iterations: int):\n",
    "    iteration = 0\n",
    "    force = []\n",
    "    for _ in range(n_iterations):\n",
    "        iteration += 1\n",
    "        force.append(iteration)\n",
    "    return force\n",
    "\n",
    "\n",
    "result1 = simulate(n_iterations=5)\n",
    "print(\"Result 1:\", result1)\n",
    "result2 = simulate(n_iterations=10)\n",
    "print(\"Result 2:\", result2)\n",
    "print(\"Result 1:\", result1)"
   ]
  },
  {
   "cell_type": "code",
   "execution_count": 36,
   "metadata": {},
   "outputs": [
    {
     "name": "stdout",
     "output_type": "stream",
     "text": [
      "Result 1: force=[1, 2, 3, 4, 5] n_iterations=5 last_iteration=5\n",
      "Result 2: force=[1, 2, 3, 4, 5, 6, 7, 8, 9, 10] n_iterations=10 last_iteration=10\n",
      "Result 1: force=[1, 2, 3, 4, 5] n_iterations=5 last_iteration=5\n"
     ]
    }
   ],
   "source": [
    "from pydantic import BaseModel\n",
    "\n",
    "\n",
    "class Result(BaseModel):\n",
    "    force: list[int]\n",
    "    n_iterations: int\n",
    "    last_iteration: int\n",
    "\n",
    "\n",
    "def simulate(n_iterations: int):\n",
    "    iteration = 0\n",
    "    force = []\n",
    "    for _ in range(n_iterations):\n",
    "        iteration += 1\n",
    "        force.append(iteration)\n",
    "    return Result(\n",
    "        force=force, n_iterations=n_iterations, last_iteration=iteration\n",
    "    )\n",
    "\n",
    "\n",
    "result1 = simulate(n_iterations=5)\n",
    "print(\"Result 1:\", result1)\n",
    "result2 = simulate(n_iterations=10)\n",
    "print(\"Result 2:\", result2)\n",
    "print(\"Result 1:\", result1)"
   ]
  }
 ],
 "metadata": {
  "kernelspec": {
   "display_name": "wedev",
   "language": "python",
   "name": "python3"
  },
  "language_info": {
   "codemirror_mode": {
    "name": "ipython",
    "version": 3
   },
   "file_extension": ".py",
   "mimetype": "text/x-python",
   "name": "python",
   "nbconvert_exporter": "python",
   "pygments_lexer": "ipython3",
   "version": "3.11.9"
  }
 },
 "nbformat": 4,
 "nbformat_minor": 2
}
